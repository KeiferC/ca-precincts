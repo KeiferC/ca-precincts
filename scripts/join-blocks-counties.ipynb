{
 "cells": [
  {
   "cell_type": "code",
   "execution_count": 2,
   "metadata": {},
   "outputs": [
    {
     "name": "stdout",
     "output_type": "stream",
     "text": [
      "Requirement already satisfied: geopandas in /usr/local/lib/python3.7/site-packages (0.8.0)\n",
      "Requirement already satisfied: pandas>=0.23.0 in /usr/local/lib/python3.7/site-packages (from geopandas) (1.0.5)\n",
      "Requirement already satisfied: pyproj>=2.2.0 in /usr/local/lib/python3.7/site-packages (from geopandas) (2.6.1.post1)\n",
      "Requirement already satisfied: shapely in /usr/local/lib/python3.7/site-packages (from geopandas) (1.7.0)\n",
      "Requirement already satisfied: fiona in /usr/local/lib/python3.7/site-packages (from geopandas) (1.8.13.post1)\n",
      "Requirement already satisfied: numpy>=1.13.3 in /usr/local/lib/python3.7/site-packages (from pandas>=0.23.0->geopandas) (1.16.2)\n",
      "Requirement already satisfied: python-dateutil>=2.6.1 in /usr/local/lib/python3.7/site-packages (from pandas>=0.23.0->geopandas) (2.8.1)\n",
      "Requirement already satisfied: pytz>=2017.2 in /usr/local/lib/python3.7/site-packages (from pandas>=0.23.0->geopandas) (2020.1)\n",
      "Requirement already satisfied: attrs>=17 in /usr/local/lib/python3.7/site-packages (from fiona->geopandas) (19.3.0)\n",
      "Requirement already satisfied: click-plugins>=1.0 in /usr/local/lib/python3.7/site-packages (from fiona->geopandas) (1.1.1)\n",
      "Requirement already satisfied: munch in /usr/local/lib/python3.7/site-packages (from fiona->geopandas) (2.5.0)\n",
      "Requirement already satisfied: click<8,>=4.0 in /usr/local/lib/python3.7/site-packages (from fiona->geopandas) (7.1.2)\n",
      "Requirement already satisfied: cligj>=0.5 in /usr/local/lib/python3.7/site-packages (from fiona->geopandas) (0.5.0)\n",
      "Requirement already satisfied: six>=1.7 in /usr/local/lib/python3.7/site-packages (from fiona->geopandas) (1.12.0)\n",
      "Requirement already satisfied: numpy in /usr/local/lib/python3.7/site-packages (1.16.2)\n"
     ]
    }
   ],
   "source": [
    "!pip install geopandas\n",
    "!pip install numpy"
   ]
  },
  {
   "cell_type": "code",
   "execution_count": 5,
   "metadata": {},
   "outputs": [],
   "source": [
    "from extract import ExtractTable\n",
    "import geopandas as gpd\n",
    "import numpy as np\n",
    "import pandas as pd"
   ]
  },
  {
   "cell_type": "code",
   "execution_count": 11,
   "metadata": {},
   "outputs": [],
   "source": [
    "census_path = '../geodata/census/shp/2010/'"
   ]
  },
  {
   "cell_type": "code",
   "execution_count": 13,
   "metadata": {},
   "outputs": [],
   "source": [
    "blocks_et = ExtractTable(census_path + 'blocks.zip')\n",
    "counties_et = ExtractTable(census_path + 'counties.zip')"
   ]
  },
  {
   "cell_type": "code",
   "execution_count": 20,
   "metadata": {},
   "outputs": [
    {
     "data": {
      "text/plain": [
       "array(['G06008309801001030', 'G06008309801001047', 'G06008309801001029',\n",
       "       ..., 'G06004900003003901', 'G06004900003003916',\n",
       "       'G06004900003003097'], dtype=object)"
      ]
     },
     "execution_count": 20,
     "metadata": {},
     "output_type": "execute_result"
    }
   ],
   "source": [
    "blocks_gisjoin_vals = blocks_et.list_values('GISJOIN')\n",
    "prejoin_gisjoin_len = len(blocks_gisjoin_vals)\n",
    "blocks_gisjoin_vals # ex. G0600830 9801001030 "
   ]
  },
  {
   "cell_type": "code",
   "execution_count": 21,
   "metadata": {},
   "outputs": [
    {
     "data": {
      "text/plain": [
       "array(['G0600590', 'G0601030', 'G0600110', 'G0600830', 'G0600510',\n",
       "       'G0600530', 'G0600610', 'G0600050', 'G0600090', 'G0600250',\n",
       "       'G0600930', 'G0600970', 'G0600850', 'G0600290', 'G0601130',\n",
       "       'G0600450', 'G0600670', 'G0600390', 'G0601150', 'G0601070',\n",
       "       'G0600730', 'G0600630', 'G0600690', 'G0600890', 'G0600990',\n",
       "       'G0600430', 'G0600190', 'G0600030', 'G0600410', 'G0600210',\n",
       "       'G0600350', 'G0600150', 'G0600550', 'G0600790', 'G0600810',\n",
       "       'G0600570', 'G0600770', 'G0600710', 'G0601010', 'G0600650',\n",
       "       'G0601050', 'G0600130', 'G0601110', 'G0601090', 'G0600070',\n",
       "       'G0600910', 'G0600330', 'G0600490', 'G0600170', 'G0600370',\n",
       "       'G0600010', 'G0600270', 'G0600750', 'G0600870', 'G0600310',\n",
       "       'G0600230', 'G0600950', 'G0600470'], dtype=object)"
      ]
     },
     "execution_count": 21,
     "metadata": {},
     "output_type": "execute_result"
    }
   ],
   "source": [
    "counties_gisjoin_vals = counties_et.list_values('GISJOIN')\n",
    "counties_gisjoin_vals"
   ]
  },
  {
   "cell_type": "code",
   "execution_count": 22,
   "metadata": {},
   "outputs": [],
   "source": [
    "blocks_gdf = blocks_et.extract()\n",
    "counties_gdf = counties_et.extract()"
   ]
  },
  {
   "cell_type": "code",
   "execution_count": 42,
   "metadata": {},
   "outputs": [],
   "source": [
    "short_gisjoins = []\n",
    "for long_gisjoin in blocks_gdf['GISJOIN']:\n",
    "    short_gisjoins.append(long_gisjoin[0:8])\n",
    "\n",
    "# sanity check\n",
    "len(short_gisjoins) == prejoin_gisjoin_len\n",
    "short_gisjoins\n",
    "\n",
    "blocks_gdf['CTYGISJOIN'] = short_gisjoins"
   ]
  },
  {
   "cell_type": "code",
   "execution_count": 43,
   "metadata": {},
   "outputs": [
    {
     "data": {
      "text/plain": [
       "0         G0600830\n",
       "1         G0600830\n",
       "2         G0600830\n",
       "3         G0600830\n",
       "4         G0600830\n",
       "            ...   \n",
       "708073    G0600490\n",
       "708074    G0600490\n",
       "708075    G0600490\n",
       "708076    G0600490\n",
       "708077    G0600490\n",
       "Name: CTYGISJOIN, Length: 708078, dtype: object"
      ]
     },
     "execution_count": 43,
     "metadata": {},
     "output_type": "execute_result"
    }
   ],
   "source": []
  },
  {
   "cell_type": "code",
   "execution_count": null,
   "metadata": {},
   "outputs": [],
   "source": []
  }
 ],
 "metadata": {
  "kernelspec": {
   "display_name": "Python 3",
   "language": "python",
   "name": "python3"
  },
  "language_info": {
   "codemirror_mode": {
    "name": "ipython",
    "version": 3
   },
   "file_extension": ".py",
   "mimetype": "text/x-python",
   "name": "python",
   "nbconvert_exporter": "python",
   "pygments_lexer": "ipython3",
   "version": "3.7.7"
  }
 },
 "nbformat": 4,
 "nbformat_minor": 4
}
