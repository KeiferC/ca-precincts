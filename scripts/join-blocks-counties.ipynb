{
 "cells": [
  {
   "cell_type": "code",
   "execution_count": null,
   "metadata": {},
   "outputs": [],
   "source": [
    "!pip install geopandas\n",
    "!pip install numpy"
   ]
  },
  {
   "cell_type": "code",
   "execution_count": null,
   "metadata": {},
   "outputs": [],
   "source": [
    "from extract import ExtractTable\n",
    "import geopandas as gpd\n",
    "import numpy as np\n",
    "import pandas as pd"
   ]
  },
  {
   "cell_type": "code",
   "execution_count": null,
   "metadata": {},
   "outputs": [],
   "source": [
    "census_path = '../geodata/census/shp/2010/'"
   ]
  },
  {
   "cell_type": "code",
   "execution_count": null,
   "metadata": {},
   "outputs": [],
   "source": [
    "blocks_et = ExtractTable(census_path + 'blocks.zip')\n",
    "counties_et = ExtractTable(census_path + 'counties.zip')"
   ]
  },
  {
   "cell_type": "code",
   "execution_count": null,
   "metadata": {},
   "outputs": [],
   "source": [
    "blocks_gisjoin_vals = blocks_et.list_values('GISJOIN')\n",
    "prejoin_gisjoin_len = len(blocks_gisjoin_vals)\n",
    "blocks_gisjoin_vals # ex. G0600830 9801001030 "
   ]
  },
  {
   "cell_type": "code",
   "execution_count": null,
   "metadata": {},
   "outputs": [],
   "source": [
    "counties_gisjoin_vals = counties_et.list_values('GISJOIN')\n",
    "counties_gisjoin_vals"
   ]
  },
  {
   "cell_type": "code",
   "execution_count": null,
   "metadata": {},
   "outputs": [],
   "source": [
    "blocks_gdf = blocks_et.extract()\n",
    "counties_gdf = counties_et.extract()"
   ]
  },
  {
   "cell_type": "code",
   "execution_count": null,
   "metadata": {},
   "outputs": [],
   "source": [
    "short_gisjoins = []\n",
    "for long_gisjoin in blocks_gdf['GISJOIN']:\n",
    "    short_gisjoins.append(long_gisjoin[0:8])\n",
    "\n",
    "# sanity check\n",
    "len(short_gisjoins) == prejoin_gisjoin_len\n",
    "short_gisjoins\n",
    "\n",
    "blocks_gdf['CTYGISJOIN'] = short_gisjoins"
   ]
  },
  {
   "cell_type": "code",
   "execution_count": null,
   "metadata": {},
   "outputs": [],
   "source": []
  },
  {
   "cell_type": "code",
   "execution_count": null,
   "metadata": {},
   "outputs": [],
   "source": []
  }
 ],
 "metadata": {
  "kernelspec": {
   "display_name": "Python 3",
   "language": "python",
   "name": "python3"
  },
  "language_info": {
   "codemirror_mode": {
    "name": "ipython",
    "version": 3
   },
   "file_extension": ".py",
   "mimetype": "text/x-python",
   "name": "python",
   "nbconvert_exporter": "python",
   "pygments_lexer": "ipython3",
   "version": "3.7.7"
  }
 },
 "nbformat": 4,
 "nbformat_minor": 4
}
